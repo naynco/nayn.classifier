{
  "nbformat": 4,
  "nbformat_minor": 0,
  "metadata": {
    "colab": {
      "name": "NAYN_classifier.ipynb",
      "provenance": []
    },
    "kernelspec": {
      "name": "python3",
      "display_name": "Python 3"
    }
  },
  "cells": [
    {
      "cell_type": "code",
      "metadata": {
        "id": "163XxTwxyv-E",
        "colab_type": "code",
        "colab": {
          "base_uri": "https://localhost:8080/",
          "height": 360
        },
        "outputId": "500489bd-8dd8-40dc-8435-f97e7ff63fd2"
      },
      "source": [
        "!pip install TurkishStemmer gensim unicode_tr"
      ],
      "execution_count": 87,
      "outputs": [
        {
          "output_type": "stream",
          "text": [
            "Requirement already satisfied: TurkishStemmer in /usr/local/lib/python3.6/dist-packages (1.3)\n",
            "Requirement already satisfied: gensim in /usr/local/lib/python3.6/dist-packages (3.6.0)\n",
            "Requirement already satisfied: unicode_tr in /usr/local/lib/python3.6/dist-packages (0.6.1)\n",
            "Requirement already satisfied: six>=1.5.0 in /usr/local/lib/python3.6/dist-packages (from gensim) (1.12.0)\n",
            "Requirement already satisfied: scipy>=0.18.1 in /usr/local/lib/python3.6/dist-packages (from gensim) (1.3.1)\n",
            "Requirement already satisfied: smart-open>=1.2.1 in /usr/local/lib/python3.6/dist-packages (from gensim) (1.8.4)\n",
            "Requirement already satisfied: numpy>=1.11.3 in /usr/local/lib/python3.6/dist-packages (from gensim) (1.16.5)\n",
            "Requirement already satisfied: requests in /usr/local/lib/python3.6/dist-packages (from smart-open>=1.2.1->gensim) (2.21.0)\n",
            "Requirement already satisfied: boto3 in /usr/local/lib/python3.6/dist-packages (from smart-open>=1.2.1->gensim) (1.9.224)\n",
            "Requirement already satisfied: boto>=2.32 in /usr/local/lib/python3.6/dist-packages (from smart-open>=1.2.1->gensim) (2.49.0)\n",
            "Requirement already satisfied: chardet<3.1.0,>=3.0.2 in /usr/local/lib/python3.6/dist-packages (from requests->smart-open>=1.2.1->gensim) (3.0.4)\n",
            "Requirement already satisfied: certifi>=2017.4.17 in /usr/local/lib/python3.6/dist-packages (from requests->smart-open>=1.2.1->gensim) (2019.6.16)\n",
            "Requirement already satisfied: urllib3<1.25,>=1.21.1 in /usr/local/lib/python3.6/dist-packages (from requests->smart-open>=1.2.1->gensim) (1.24.3)\n",
            "Requirement already satisfied: idna<2.9,>=2.5 in /usr/local/lib/python3.6/dist-packages (from requests->smart-open>=1.2.1->gensim) (2.8)\n",
            "Requirement already satisfied: botocore<1.13.0,>=1.12.224 in /usr/local/lib/python3.6/dist-packages (from boto3->smart-open>=1.2.1->gensim) (1.12.224)\n",
            "Requirement already satisfied: s3transfer<0.3.0,>=0.2.0 in /usr/local/lib/python3.6/dist-packages (from boto3->smart-open>=1.2.1->gensim) (0.2.1)\n",
            "Requirement already satisfied: jmespath<1.0.0,>=0.7.1 in /usr/local/lib/python3.6/dist-packages (from boto3->smart-open>=1.2.1->gensim) (0.9.4)\n",
            "Requirement already satisfied: docutils<0.16,>=0.10 in /usr/local/lib/python3.6/dist-packages (from botocore<1.13.0,>=1.12.224->boto3->smart-open>=1.2.1->gensim) (0.15.2)\n",
            "Requirement already satisfied: python-dateutil<3.0.0,>=2.1; python_version >= \"2.7\" in /usr/local/lib/python3.6/dist-packages (from botocore<1.13.0,>=1.12.224->boto3->smart-open>=1.2.1->gensim) (2.5.3)\n"
          ],
          "name": "stdout"
        }
      ]
    },
    {
      "cell_type": "code",
      "metadata": {
        "id": "XRfiZjuYx392",
        "colab_type": "code",
        "colab": {}
      },
      "source": [
        "import numpy as np\n",
        "import pandas as pd\n",
        "import re\n",
        "import nltk\n",
        "import string\n",
        "from nltk.corpus import stopwords\n",
        "from TurkishStemmer import TurkishStemmer\n",
        "from unicode_tr import unicode_tr\n",
        "\n",
        "from sklearn.preprocessing import LabelEncoder\n",
        "from sklearn.model_selection import train_test_split, cross_val_score\n",
        "from sklearn.feature_extraction.text import CountVectorizer\n",
        "from sklearn.feature_extraction.text import TfidfTransformer\n",
        "from sklearn.linear_model import LogisticRegression\n",
        "from sklearn.pipeline import Pipeline\n",
        "from sklearn.metrics import confusion_matrix, classification_report, accuracy_score, roc_curve, auc, f1_score, roc_auc_score\n",
        "\n",
        "import warnings; warnings.simplefilter('ignore')"
      ],
      "execution_count": 0,
      "outputs": []
    },
    {
      "cell_type": "code",
      "metadata": {
        "id": "sTUegyTYz1XY",
        "colab_type": "code",
        "colab": {
          "base_uri": "https://localhost:8080/",
          "height": 85
        },
        "outputId": "84775a2f-2a63-4a9a-b826-75a7883840bc"
      },
      "source": [
        "download_list = [\"stopwords\",\"wordnet\"]\n",
        "for download in download_list:\n",
        "    nltk.download(download)"
      ],
      "execution_count": 89,
      "outputs": [
        {
          "output_type": "stream",
          "text": [
            "[nltk_data] Downloading package stopwords to /root/nltk_data...\n",
            "[nltk_data]   Package stopwords is already up-to-date!\n",
            "[nltk_data] Downloading package wordnet to /root/nltk_data...\n",
            "[nltk_data]   Package wordnet is already up-to-date!\n"
          ],
          "name": "stdout"
        }
      ]
    },
    {
      "cell_type": "code",
      "metadata": {
        "id": "sRxT0gBsy5ME",
        "colab_type": "code",
        "colab": {
          "base_uri": "https://localhost:8080/",
          "height": 204
        },
        "outputId": "8397abba-e8ec-4368-b2f4-788061059d67"
      },
      "source": [
        "data = pd.read_csv(\"https://raw.githubusercontent.com/naynco/nayn.data/master/classification_clean.csv\")\n",
        "main_categories = ['DÜNYA', 'SPOR','SANAT','Teknoloji']\n",
        "filter = data[\"Categories\"].isin(main_categories)\n",
        "data = data[filter]\n",
        "train_data = data[['Title', 'Categories']]\n",
        "train_data.head()"
      ],
      "execution_count": 90,
      "outputs": [
        {
          "output_type": "execute_result",
          "data": {
            "text/html": [
              "<div>\n",
              "<style scoped>\n",
              "    .dataframe tbody tr th:only-of-type {\n",
              "        vertical-align: middle;\n",
              "    }\n",
              "\n",
              "    .dataframe tbody tr th {\n",
              "        vertical-align: top;\n",
              "    }\n",
              "\n",
              "    .dataframe thead th {\n",
              "        text-align: right;\n",
              "    }\n",
              "</style>\n",
              "<table border=\"1\" class=\"dataframe\">\n",
              "  <thead>\n",
              "    <tr style=\"text-align: right;\">\n",
              "      <th></th>\n",
              "      <th>Title</th>\n",
              "      <th>Categories</th>\n",
              "    </tr>\n",
              "  </thead>\n",
              "  <tbody>\n",
              "    <tr>\n",
              "      <th>12006</th>\n",
              "      <td>58 Saniyede Katar Meselesi? Katar krizi nedir?...</td>\n",
              "      <td>DÜNYA</td>\n",
              "    </tr>\n",
              "    <tr>\n",
              "      <th>12496</th>\n",
              "      <td>58 Saniyede Türkiye - Almanya Gerginliği</td>\n",
              "      <td>DÜNYA</td>\n",
              "    </tr>\n",
              "    <tr>\n",
              "      <th>12877</th>\n",
              "      <td>Adriana Lima, Bomba Aşkla İlgili İlk Kez Konuş...</td>\n",
              "      <td>DÜNYA</td>\n",
              "    </tr>\n",
              "    <tr>\n",
              "      <th>12878</th>\n",
              "      <td>Galatasaraylı Taraftarlar Patladı: İstifa Edin</td>\n",
              "      <td>SPOR</td>\n",
              "    </tr>\n",
              "    <tr>\n",
              "      <th>12880</th>\n",
              "      <td>Galatasaray'dan Ayrılan Sabri, Neredeyse Bedav...</td>\n",
              "      <td>SPOR</td>\n",
              "    </tr>\n",
              "  </tbody>\n",
              "</table>\n",
              "</div>"
            ],
            "text/plain": [
              "                                                   Title Categories\n",
              "12006  58 Saniyede Katar Meselesi? Katar krizi nedir?...      DÜNYA\n",
              "12496           58 Saniyede Türkiye - Almanya Gerginliği      DÜNYA\n",
              "12877  Adriana Lima, Bomba Aşkla İlgili İlk Kez Konuş...      DÜNYA\n",
              "12878     Galatasaraylı Taraftarlar Patladı: İstifa Edin       SPOR\n",
              "12880  Galatasaray'dan Ayrılan Sabri, Neredeyse Bedav...       SPOR"
            ]
          },
          "metadata": {
            "tags": []
          },
          "execution_count": 90
        }
      ]
    },
    {
      "cell_type": "code",
      "metadata": {
        "id": "bPlrgpUqzWcd",
        "colab_type": "code",
        "colab": {}
      },
      "source": [
        "def process_content(doc):\n",
        "    stemmer = TurkishStemmer()\n",
        "    \n",
        "    doc = unicode_tr(doc).lower()\n",
        "    filter_punch = str.maketrans('', '', string.punctuation)\n",
        "    stripped = doc.translate(filter_punch)\n",
        "\n",
        "    clean_text = []\n",
        "    for i in stripped.split():\n",
        "        if i not in stopwords.words('turkish'):\n",
        "            clean_text.append(stemmer.stem(i))\n",
        "\n",
        "    return ' '.join(clean_text)"
      ],
      "execution_count": 0,
      "outputs": []
    },
    {
      "cell_type": "code",
      "metadata": {
        "id": "oiOdc2xKzbvP",
        "colab_type": "code",
        "colab": {}
      },
      "source": [
        "train_data['processed_title'] = train_data['Title'].apply(process_content)"
      ],
      "execution_count": 0,
      "outputs": []
    },
    {
      "cell_type": "code",
      "metadata": {
        "id": "JIoBy8UGzgQT",
        "colab_type": "code",
        "colab": {
          "base_uri": "https://localhost:8080/",
          "height": 204
        },
        "outputId": "a7782db7-3c86-477f-983d-2af16087cfb6"
      },
      "source": [
        "train_data.head()"
      ],
      "execution_count": 93,
      "outputs": [
        {
          "output_type": "execute_result",
          "data": {
            "text/html": [
              "<div>\n",
              "<style scoped>\n",
              "    .dataframe tbody tr th:only-of-type {\n",
              "        vertical-align: middle;\n",
              "    }\n",
              "\n",
              "    .dataframe tbody tr th {\n",
              "        vertical-align: top;\n",
              "    }\n",
              "\n",
              "    .dataframe thead th {\n",
              "        text-align: right;\n",
              "    }\n",
              "</style>\n",
              "<table border=\"1\" class=\"dataframe\">\n",
              "  <thead>\n",
              "    <tr style=\"text-align: right;\">\n",
              "      <th></th>\n",
              "      <th>Title</th>\n",
              "      <th>Categories</th>\n",
              "      <th>processed_title</th>\n",
              "    </tr>\n",
              "  </thead>\n",
              "  <tbody>\n",
              "    <tr>\n",
              "      <th>12006</th>\n",
              "      <td>58 Saniyede Katar Meselesi? Katar krizi nedir?...</td>\n",
              "      <td>DÜNYA</td>\n",
              "      <td>58 saniye katar mesele katar kriz ne video</td>\n",
              "    </tr>\n",
              "    <tr>\n",
              "      <th>12496</th>\n",
              "      <td>58 Saniyede Türkiye - Almanya Gerginliği</td>\n",
              "      <td>DÜNYA</td>\n",
              "      <td>58 saniye türki almanya gerginlik</td>\n",
              "    </tr>\n",
              "    <tr>\n",
              "      <th>12877</th>\n",
              "      <td>Adriana Lima, Bomba Aşkla İlgili İlk Kez Konuş...</td>\n",
              "      <td>DÜNYA</td>\n",
              "      <td>adrian lima bomp aşkl ilgi ilk konuş 35 yıl me...</td>\n",
              "    </tr>\n",
              "    <tr>\n",
              "      <th>12878</th>\n",
              "      <td>Galatasaraylı Taraftarlar Patladı: İstifa Edin</td>\n",
              "      <td>SPOR</td>\n",
              "      <td>galatasaray taraftar patl istifa et</td>\n",
              "    </tr>\n",
              "    <tr>\n",
              "      <th>12880</th>\n",
              "      <td>Galatasaray'dan Ayrılan Sabri, Neredeyse Bedav...</td>\n",
              "      <td>SPOR</td>\n",
              "      <td>galatasaray ayrılan sabri nere bedava kayseris...</td>\n",
              "    </tr>\n",
              "  </tbody>\n",
              "</table>\n",
              "</div>"
            ],
            "text/plain": [
              "                                                   Title  ...                                    processed_title\n",
              "12006  58 Saniyede Katar Meselesi? Katar krizi nedir?...  ...         58 saniye katar mesele katar kriz ne video\n",
              "12496           58 Saniyede Türkiye - Almanya Gerginliği  ...                  58 saniye türki almanya gerginlik\n",
              "12877  Adriana Lima, Bomba Aşkla İlgili İlk Kez Konuş...  ...  adrian lima bomp aşkl ilgi ilk konuş 35 yıl me...\n",
              "12878     Galatasaraylı Taraftarlar Patladı: İstifa Edin  ...                galatasaray taraftar patl istifa et\n",
              "12880  Galatasaray'dan Ayrılan Sabri, Neredeyse Bedav...  ...  galatasaray ayrılan sabri nere bedava kayseris...\n",
              "\n",
              "[5 rows x 3 columns]"
            ]
          },
          "metadata": {
            "tags": []
          },
          "execution_count": 93
        }
      ]
    },
    {
      "cell_type": "code",
      "metadata": {
        "id": "QVgc6ho93Ylo",
        "colab_type": "code",
        "colab": {
          "base_uri": "https://localhost:8080/",
          "height": 34
        },
        "outputId": "1fd7b949-afc3-4076-f0e6-373f4a8352d4"
      },
      "source": [
        "categories = train_data['Categories']\n",
        "titles = train_data['processed_title']\n",
        "N = len(titles)\n",
        "print('Number of news',N)"
      ],
      "execution_count": 94,
      "outputs": [
        {
          "output_type": "stream",
          "text": [
            "Number of news 11622\n"
          ],
          "name": "stdout"
        }
      ]
    },
    {
      "cell_type": "code",
      "metadata": {
        "id": "w4tVMeR-3ePf",
        "colab_type": "code",
        "colab": {
          "base_uri": "https://localhost:8080/",
          "height": 34
        },
        "outputId": "ed940f25-5810-4d73-ffcd-5b2f94e28e71"
      },
      "source": [
        "labels = list(set(categories))\n",
        "n_classes = len(labels)\n",
        "print('possible categories',labels)"
      ],
      "execution_count": 95,
      "outputs": [
        {
          "output_type": "stream",
          "text": [
            "possible categories ['Teknoloji', 'SPOR', 'DÜNYA', 'SANAT']\n"
          ],
          "name": "stdout"
        }
      ]
    },
    {
      "cell_type": "code",
      "metadata": {
        "id": "UAl7SGsk3iU0",
        "colab_type": "code",
        "colab": {
          "base_uri": "https://localhost:8080/",
          "height": 85
        },
        "outputId": "2d88e4b4-cf69-40ec-db51-a8f42c3a3ade"
      },
      "source": [
        "for l in labels:\n",
        "    print('number of ',l,' news',len(train_data.loc[train_data['Categories'] == l]))"
      ],
      "execution_count": 96,
      "outputs": [
        {
          "output_type": "stream",
          "text": [
            "number of  Teknoloji  news 144\n",
            "number of  SPOR  news 1967\n",
            "number of  DÜNYA  news 9226\n",
            "number of  SANAT  news 285\n"
          ],
          "name": "stdout"
        }
      ]
    },
    {
      "cell_type": "code",
      "metadata": {
        "id": "CuNoXdBN3qt8",
        "colab_type": "code",
        "colab": {}
      },
      "source": [
        "X_train, X_test, y_train, y_test = train_test_split(train_data['processed_title'],train_data['Categories'],test_size=0.2,random_state=57)"
      ],
      "execution_count": 0,
      "outputs": []
    },
    {
      "cell_type": "code",
      "metadata": {
        "id": "8VPNY0O53wXZ",
        "colab_type": "code",
        "colab": {}
      },
      "source": [
        "model = Pipeline([('vect', CountVectorizer()),\n",
        "                     ('tfidf', TfidfTransformer()),\n",
        "                     ('clf', LogisticRegression()),\n",
        "                     ])"
      ],
      "execution_count": 0,
      "outputs": []
    },
    {
      "cell_type": "code",
      "metadata": {
        "id": "HIo3IHFM31wq",
        "colab_type": "code",
        "colab": {}
      },
      "source": [
        "text_clf = model.fit(X_train, y_train)"
      ],
      "execution_count": 0,
      "outputs": []
    },
    {
      "cell_type": "code",
      "metadata": {
        "id": "QLZ15qOS4G64",
        "colab_type": "code",
        "colab": {}
      },
      "source": [
        "predicted = model.predict(X_test)"
      ],
      "execution_count": 0,
      "outputs": []
    },
    {
      "cell_type": "code",
      "metadata": {
        "id": "vERqQ87F4KEQ",
        "colab_type": "code",
        "colab": {
          "base_uri": "https://localhost:8080/",
          "height": 85
        },
        "outputId": "a2238f8b-a006-4169-82cb-971bec4d7120"
      },
      "source": [
        "confusion_matrix(y_test,predicted)"
      ],
      "execution_count": 101,
      "outputs": [
        {
          "output_type": "execute_result",
          "data": {
            "text/plain": [
              "array([[1835,    2,    5,    0],\n",
              "       [  53,    3,    0,    0],\n",
              "       [ 136,    0,  263,    0],\n",
              "       [  28,    0,    0,    0]])"
            ]
          },
          "metadata": {
            "tags": []
          },
          "execution_count": 101
        }
      ]
    },
    {
      "cell_type": "code",
      "metadata": {
        "id": "DXbeWw_S4NWv",
        "colab_type": "code",
        "colab": {
          "base_uri": "https://localhost:8080/",
          "height": 51
        },
        "outputId": "69c72702-3dd6-4105-fe49-95bd9c2002a0"
      },
      "source": [
        "print('accuracy_score',accuracy_score(y_test,predicted))\n",
        "print('Reporting...')"
      ],
      "execution_count": 102,
      "outputs": [
        {
          "output_type": "stream",
          "text": [
            "accuracy_score 0.9036559139784947\n",
            "Reporting...\n"
          ],
          "name": "stdout"
        }
      ]
    },
    {
      "cell_type": "code",
      "metadata": {
        "id": "ijvi1Quf4RPQ",
        "colab_type": "code",
        "colab": {
          "base_uri": "https://localhost:8080/",
          "height": 204
        },
        "outputId": "22ad64f2-b785-41b3-a5ef-df81ec754074"
      },
      "source": [
        "print(classification_report(y_test, predicted, target_names=labels))"
      ],
      "execution_count": 103,
      "outputs": [
        {
          "output_type": "stream",
          "text": [
            "              precision    recall  f1-score   support\n",
            "\n",
            "   Teknoloji       0.89      1.00      0.94      1842\n",
            "        SPOR       0.60      0.05      0.10        56\n",
            "       DÜNYA       0.98      0.66      0.79       399\n",
            "       SANAT       0.00      0.00      0.00        28\n",
            "\n",
            "    accuracy                           0.90      2325\n",
            "   macro avg       0.62      0.43      0.46      2325\n",
            "weighted avg       0.89      0.90      0.88      2325\n",
            "\n"
          ],
          "name": "stdout"
        }
      ]
    },
    {
      "cell_type": "code",
      "metadata": {
        "id": "cvpOcoWi4UEz",
        "colab_type": "code",
        "colab": {
          "base_uri": "https://localhost:8080/",
          "height": 34
        },
        "outputId": "20cf73ab-1b0e-49fb-fdda-6630386cc030"
      },
      "source": [
        "cross_val_score(model, X_train, y_train, cv=5)"
      ],
      "execution_count": 104,
      "outputs": [
        {
          "output_type": "execute_result",
          "data": {
            "text/plain": [
              "array([0.89199355, 0.90107527, 0.89892473, 0.89940828, 0.90091546])"
            ]
          },
          "metadata": {
            "tags": []
          },
          "execution_count": 104
        }
      ]
    },
    {
      "cell_type": "code",
      "metadata": {
        "id": "LPvNWlbC4Zve",
        "colab_type": "code",
        "colab": {
          "base_uri": "https://localhost:8080/",
          "height": 34
        },
        "outputId": "3d77eba2-70aa-4dbd-9a6d-439d786d5dc5"
      },
      "source": [
        "cross_val_score(model, X_test, y_test, cv=5)"
      ],
      "execution_count": 105,
      "outputs": [
        {
          "output_type": "execute_result",
          "data": {
            "text/plain": [
              "array([0.85867238, 0.86051502, 0.86236559, 0.84267241, 0.85529158])"
            ]
          },
          "metadata": {
            "tags": []
          },
          "execution_count": 105
        }
      ]
    },
    {
      "cell_type": "code",
      "metadata": {
        "id": "Cwd_8Q5l4dGn",
        "colab_type": "code",
        "colab": {}
      },
      "source": [
        "def predict_title(model, new_data):\n",
        "    test_data = pd.DataFrame(new_data, columns=['Title'])\n",
        "    test_data['processed_title'] = test_data['Title'].apply(process_content)\n",
        "    \n",
        "    X_test = test_data['processed_title']\n",
        "    predictions = model.predict(X_test)\n",
        "    \n",
        "    return predictions"
      ],
      "execution_count": 0,
      "outputs": []
    },
    {
      "cell_type": "code",
      "metadata": {
        "id": "KvqVmWkM4i95",
        "colab_type": "code",
        "colab": {
          "base_uri": "https://localhost:8080/",
          "height": 34
        },
        "outputId": "764e0a2a-9e69-4029-e636-9449adced789"
      },
      "source": [
        "t1 = ['Fenerbahçe, Neustadter Transferini Borsaya Bildirdi']\n",
        "news_title = pd.DataFrame(t1, columns=['Title'])\n",
        "predict_title(model, t1)"
      ],
      "execution_count": 116,
      "outputs": [
        {
          "output_type": "execute_result",
          "data": {
            "text/plain": [
              "array(['SPOR'], dtype=object)"
            ]
          },
          "metadata": {
            "tags": []
          },
          "execution_count": 116
        }
      ]
    }
  ]
}